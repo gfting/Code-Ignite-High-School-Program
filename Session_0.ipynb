{
 "cells": [
  {
   "cell_type": "markdown",
   "metadata": {},
   "source": [
    "# Introduction to Python \n",
    "- What is Python? \n",
    "    - Python is a programming language that can be used to write computer software \n",
    "    - It has been used for many famous things that you use in your day to day life such as Reddit, YouTube, Wikipedia, and many other things \n",
    "- Why use a programming language like Python? \n",
    "    - Computers work with 1's and 0's (binary) and we need something to bridge this gap between human language such as English and machine language; that's where programming languages like Python come into the picture \n",
    "    - Code that you write in Python is coverted to machine code that can be understood by the computer; no one wants to write in 1's and 0s to tell the computer what to do "
   ]
  },
  {
   "cell_type": "markdown",
   "metadata": {
    "collapsed": true
   },
   "source": [
    "Would you prefer writing this:     \n",
    "   \n",
    "b8    21 0a 00 00   #moving \"!\\n\" into eax    \n",
    "a3    0c 10 00 06   #moving eax into first memory location  \n",
    "b8    6f 72 6c 64   #moving \"orld\" into eax  \n",
    "a3    08 10 00 06   #moving eax into next memory location  \n",
    "b8    6f 2c 20 57   #moving \"o, W\" into eax  \n",
    "a3    04 10 00 06   #moving eax into next memory location  \n",
    "b8    48 65 6c 6c   #moving \"Hell\" into eax  \n",
    "a3    00 10 00 06   #moving eax into next memory location  \n",
    "b9    00 10 00 06   #moving pointer to start of memory location into ecx  \n",
    "ba    10 00 00 00   #moving string size into edx  \n",
    "bb    01 00 00 00   #moving \"stdout\" number to ebx  \n",
    "b8    04 00 00 00   #moving \"print out\" syscall number to eax  \n",
    "cd    80            #calling the linux kernel to execute our print to stdout  \n",
    "b8    01 00 00 00   #moving \"sys_exit\" call number to eax  \n",
    "cd    80            #executing it via linux sys_call  \n",
    "   \n",
    "or   \n",
    "  \n",
    "print('Hello World')  "
   ]
  },
  {
   "cell_type": "markdown",
   "metadata": {},
   "source": [
    "# How to run your Python code \n",
    "- A tool called interpreter is used to convert your Python code into something that the machine can understand \n",
    "- We can use this tool from the terminal, which can be thought of as a piece of software that lets us use certain commands, to run some of our very first Python code \n",
    "- To open the terminal click on the search icon on the top right of the menu bar and then type in terminal into the spotlight search box and hit enter \n",
    "- Now type in Python in the terminal and hit enter; this will start off a Python shell that we can use to run our Python code "
   ]
  },
  {
   "cell_type": "markdown",
   "metadata": {},
   "source": [
    "# Now that we have things setup lets start with some basic Python concepts \n",
    "## Data types \n",
    "- Data types "
   ]
  },
  {
   "cell_type": "code",
   "execution_count": null,
   "metadata": {
    "collapsed": true
   },
   "outputs": [],
   "source": []
  }
 ],
 "metadata": {
  "kernelspec": {
   "display_name": "Python 3",
   "language": "python",
   "name": "python3"
  },
  "language_info": {
   "codemirror_mode": {
    "name": "ipython",
    "version": 3
   },
   "file_extension": ".py",
   "mimetype": "text/x-python",
   "name": "python",
   "nbconvert_exporter": "python",
   "pygments_lexer": "ipython3",
   "version": "3.6.1"
  }
 },
 "nbformat": 4,
 "nbformat_minor": 2
}
