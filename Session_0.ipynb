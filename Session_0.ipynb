{
 "cells": [
  {
   "cell_type": "markdown",
   "metadata": {},
   "source": [
    "# Introduction to Python \n",
    "- What is Python? \n",
    "    - Python is a programming language that can be used to write computer software \n",
    "    - It has been used for many famous things that you use in your day to day life such as Reddit, YouTube, Wikipedia, and many other things \n",
    "- Why use a programming language like Python? \n",
    "    - Computers work with 1's and 0's and we need something to bridge this gap between human language such as English and machine language; that's where programming languages like Python come into the picture \n",
    "    - Code that you write in Python is coverted to machine code that can be understood by the computer; no one wants to write in 1's and 0s to tell the computer what to do "
   ]
  },
  {
   "cell_type": "code",
   "execution_count": null,
   "metadata": {
    "collapsed": true
   },
   "outputs": [],
   "source": []
  }
 ],
 "metadata": {
  "kernelspec": {
   "display_name": "Python 3",
   "language": "python",
   "name": "python3"
  },
  "language_info": {
   "codemirror_mode": {
    "name": "ipython",
    "version": 3
   },
   "file_extension": ".py",
   "mimetype": "text/x-python",
   "name": "python",
   "nbconvert_exporter": "python",
   "pygments_lexer": "ipython3",
   "version": "3.6.1"
  }
 },
 "nbformat": 4,
 "nbformat_minor": 2
}
