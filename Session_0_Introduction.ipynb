{
 "cells": [
  {
   "cell_type": "markdown",
   "metadata": {},
   "source": [
    "# Introduction to Python \n",
    "- What is Python? \n",
    "    - Python is a programming language that can be used to write computer software \n",
    "    - It has been used for many famous things that you use in your day to day life such as Reddit, YouTube, Wikipedia, and many other things \n",
    "- Why use a programming language like Python? \n",
    "    - Computers work with 1's and 0's (binary) and we need something to bridge this gap between human language such as English and machine language; that's where programming languages like Python come into the picture \n",
    "    - Code that you write in Python is coverted to machine code that can be understood by the computer; no one wants to write in 1's and 0s to tell the computer what to do "
   ]
  },
  {
   "cell_type": "markdown",
   "metadata": {
    "collapsed": true
   },
   "source": [
    "Would you prefer writing this:     \n",
    "   \n",
    "b8    21 0a 00 00   #moving \"!\\n\" into eax    \n",
    "a3    0c 10 00 06   #moving eax into first memory location  \n",
    "b8    6f 72 6c 64   #moving \"orld\" into eax  \n",
    "a3    08 10 00 06   #moving eax into next memory location  \n",
    "b8    6f 2c 20 57   #moving \"o, W\" into eax  \n",
    "a3    04 10 00 06   #moving eax into next memory location  \n",
    "b8    48 65 6c 6c   #moving \"Hell\" into eax  \n",
    "a3    00 10 00 06   #moving eax into next memory location  \n",
    "b9    00 10 00 06   #moving pointer to start of memory location into ecx  \n",
    "ba    10 00 00 00   #moving string size into edx  \n",
    "bb    01 00 00 00   #moving \"stdout\" number to ebx  \n",
    "b8    04 00 00 00   #moving \"print out\" syscall number to eax  \n",
    "cd    80            #calling the linux kernel to execute our print to stdout  \n",
    "b8    01 00 00 00   #moving \"sys_exit\" call number to eax  \n",
    "cd    80            #executing it via linux sys_call  \n",
    "   \n",
    "or   \n",
    "  \n",
    "print('Hello World')  "
   ]
  },
  {
   "cell_type": "markdown",
   "metadata": {},
   "source": [
    "# How to run your Python code \n",
    "- A tool called interpreter is used to convert your Python code into something that the machine can understand \n",
    "- We can use this tool from the terminal, which can be thought of as a piece of software that lets us use certain commands, to run some of our very first Python code \n",
    "- To open the terminal click on the search icon on the top right of the menu bar (macOS) and then type in terminal into the spotlight search box and hit enter \n",
    "- Now type in Python in the terminal and hit enter; this will start off a Python shell that we can use to run our Python code "
   ]
  },
  {
   "cell_type": "markdown",
   "metadata": {},
   "source": [
    "# Now that we have things setup lets start with some basic Python concepts \n",
    "## Data types \n",
    "- Data in Python is separated into a few main types and hence the name data types \n",
    "- Some of the data types in Python are as follows: \n",
    "    - int \n",
    "    - float\n",
    "    - string"
   ]
  },
  {
   "cell_type": "markdown",
   "metadata": {
    "collapsed": true
   },
   "source": [
    "### int\n",
    "- int in Python indicates all regular integers such as 0, -98, 45, 22222\n",
    "- Remeber integers include negative numbers, just as it's defined mathematically "
   ]
  },
  {
   "cell_type": "markdown",
   "metadata": {},
   "source": [
    "### float\n",
    "- float in Python represents our decimal numbers such as 0.23, -8.534, 0.0, 9.0\n",
    "- Remember, if you have a . in the number then it is automatically made a float; so 9 and 9.0 are different data types\n",
    "    - 9 is an int whereas 9.0 is a float "
   ]
  },
  {
   "cell_type": "markdown",
   "metadata": {},
   "source": [
    "### string\n",
    "- string in Python represents, you guessed it, strings \n",
    "- Examples of strings would be something like 'hello world', \"hello world\", \"909\", '-23.32.331-13'\n",
    "- Anything in quotes (single or double) is a string \n",
    "    - You have to make sure though that if you start a string with a single quote then you must close it with a single quote as well and the same goes for double quotes "
   ]
  },
  {
   "cell_type": "markdown",
   "metadata": {},
   "source": [
    "### Can you tell me what data types Python would use to encode the following:\n",
    "- 578\n",
    "- '578'\n",
    "- 578.0\n",
    "- 0.0\n",
    "- .5\n",
    "- \"0\"\n",
    "- \"Hi there!\"\n",
    "\n",
    "\n",
    "If you guessed the following then you're absolutely correct!\n",
    "- 578 -> int\n",
    "- '578' -> string\n",
    "- 578.0 -> float\n",
    "- 0.0 -> float\n",
    "- .5 -> float\n",
    "- \"0\" -> string\n",
    "- \"Hi there!\" -> string"
   ]
  },
  {
   "cell_type": "markdown",
   "metadata": {},
   "source": [
    "# Let's get to running some code in Python now \n",
    "- You can fire up your terminal and type in python and hit enter to start of the Python shell we mentioned earlier\n",
    "- As of now we only know about the types python uses to represent data\n",
    "- However, even with that knowledge we can start entering data in python and see what it gives us \n",
    "- Try entering a string that says Hello World in your python shell; it should look something like this "
   ]
  },
  {
   "cell_type": "code",
   "execution_count": 1,
   "metadata": {},
   "outputs": [
    {
     "data": {
      "text/plain": [
       "'Hello World!'"
      ]
     },
     "execution_count": 1,
     "metadata": {},
     "output_type": "execute_result"
    }
   ],
   "source": [
    "\"Hello World!\""
   ]
  },
  {
   "cell_type": "markdown",
   "metadata": {},
   "source": [
    "- As you can see it simply gave us the same string as the output; this should be the case if there are no errors in your input \n",
    "- Let's take a look at what an error looks like "
   ]
  },
  {
   "cell_type": "code",
   "execution_count": 2,
   "metadata": {},
   "outputs": [
    {
     "ename": "SyntaxError",
     "evalue": "EOL while scanning string literal (<ipython-input-2-b46953c61a97>, line 1)",
     "output_type": "error",
     "traceback": [
      "\u001b[0;36m  File \u001b[0;32m\"<ipython-input-2-b46953c61a97>\"\u001b[0;36m, line \u001b[0;32m1\u001b[0m\n\u001b[0;31m    \"Hello World!\u001b[0m\n\u001b[0m                 ^\u001b[0m\n\u001b[0;31mSyntaxError\u001b[0m\u001b[0;31m:\u001b[0m EOL while scanning string literal\n"
     ]
    }
   ],
   "source": [
    "\"Hello World!"
   ]
  },
  {
   "cell_type": "markdown",
   "metadata": {},
   "source": [
    "- Can you spot the error here? \n",
    "- Hint: it has something to do with my quotes "
   ]
  },
  {
   "cell_type": "markdown",
   "metadata": {},
   "source": [
    "- Similarly we can enter some ints and floats "
   ]
  },
  {
   "cell_type": "code",
   "execution_count": 3,
   "metadata": {},
   "outputs": [
    {
     "data": {
      "text/plain": [
       "98"
      ]
     },
     "execution_count": 3,
     "metadata": {},
     "output_type": "execute_result"
    }
   ],
   "source": [
    "98"
   ]
  },
  {
   "cell_type": "code",
   "execution_count": 4,
   "metadata": {},
   "outputs": [
    {
     "data": {
      "text/plain": [
       "98.0"
      ]
     },
     "execution_count": 4,
     "metadata": {},
     "output_type": "execute_result"
    }
   ],
   "source": [
    "98.0"
   ]
  },
  {
   "cell_type": "code",
   "execution_count": 7,
   "metadata": {},
   "outputs": [
    {
     "data": {
      "text/plain": [
       "'56'"
      ]
     },
     "execution_count": 7,
     "metadata": {},
     "output_type": "execute_result"
    }
   ],
   "source": [
    "'56'"
   ]
  },
  {
   "cell_type": "markdown",
   "metadata": {},
   "source": [
    "## type function\n",
    "- Alright, this is all very cool but let's do some more with this data \n",
    "- Most programming languages allow the use of something called functions (we'll get to those later) \n",
    "- For now you can think of function that's something like mathematical functions that you're aware of, you give the function an input and it gives you an output \n",
    "- One function that python offers that we can use with this data that we're entering is type \n",
    "    - It is used as follows: type(input)\n",
    "    - So an example of this would be type(98), type(0.5), type(\"hello\")\n",
    "- Let's see what type gives us "
   ]
  },
  {
   "cell_type": "code",
   "execution_count": 8,
   "metadata": {},
   "outputs": [
    {
     "data": {
      "text/plain": [
       "int"
      ]
     },
     "execution_count": 8,
     "metadata": {},
     "output_type": "execute_result"
    }
   ],
   "source": [
    "type(98)"
   ]
  },
  {
   "cell_type": "code",
   "execution_count": 9,
   "metadata": {},
   "outputs": [
    {
     "data": {
      "text/plain": [
       "float"
      ]
     },
     "execution_count": 9,
     "metadata": {},
     "output_type": "execute_result"
    }
   ],
   "source": [
    "type(0.5)"
   ]
  },
  {
   "cell_type": "code",
   "execution_count": 10,
   "metadata": {},
   "outputs": [
    {
     "data": {
      "text/plain": [
       "str"
      ]
     },
     "execution_count": 10,
     "metadata": {},
     "output_type": "execute_result"
    }
   ],
   "source": [
    "type(\"hello\")"
   ]
  },
  {
   "cell_type": "markdown",
   "metadata": {},
   "source": [
    "- It gives us the data type of the input! \n",
    "- Note: str stands for string "
   ]
  },
  {
   "cell_type": "markdown",
   "metadata": {},
   "source": [
    "## print function \n",
    "- Like the type function there is another function that we can use, print \n",
    "    - It is used as follows: print(input)\n",
    "    - An example of this would be print(98), print(0.5), print(\"hello\")\n",
    "- Any idea about what this function does? You guessed it, it prints out the given input \n",
    "- But wait, weren't we already printing out the input when we entered the data in the python shell\n",
    "    - You're right in observing that the shell ouput the input we entered, however, the shell works by evaluating everything that is entered; this is slightly different from how an actual program would work. \n",
    "    - In an actual program things are only evaluated as specified and any input you enter directly won't get outputted directly as we have observed so far with the shell\n",
    "    - This is where the print function comes in handy; we can use print whenever we want to output/print something\n",
    "- Let's see print in action "
   ]
  },
  {
   "cell_type": "code",
   "execution_count": 13,
   "metadata": {},
   "outputs": [
    {
     "name": "stdout",
     "output_type": "stream",
     "text": [
      "98\n"
     ]
    }
   ],
   "source": [
    "print(98)"
   ]
  },
  {
   "cell_type": "code",
   "execution_count": 14,
   "metadata": {},
   "outputs": [
    {
     "name": "stdout",
     "output_type": "stream",
     "text": [
      "0.5\n"
     ]
    }
   ],
   "source": [
    "print(0.5)"
   ]
  },
  {
   "cell_type": "code",
   "execution_count": 15,
   "metadata": {},
   "outputs": [
    {
     "name": "stdout",
     "output_type": "stream",
     "text": [
      "hello\n"
     ]
    }
   ],
   "source": [
    "print(\"hello\")"
   ]
  },
  {
   "cell_type": "markdown",
   "metadata": {},
   "source": [
    "- Play around with data, type, and print until you're comfortable with them and then move onto Session_1_Variables to learn more about different ways to store and manipulate data!"
   ]
  }
 ],
 "metadata": {
  "kernelspec": {
   "display_name": "Python 3",
   "language": "python",
   "name": "python3"
  },
  "language_info": {
   "codemirror_mode": {
    "name": "ipython",
    "version": 3
   },
   "file_extension": ".py",
   "mimetype": "text/x-python",
   "name": "python",
   "nbconvert_exporter": "python",
   "pygments_lexer": "ipython3",
   "version": "3.6.1"
  }
 },
 "nbformat": 4,
 "nbformat_minor": 2
}
